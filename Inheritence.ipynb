{
 "cells": [
  {
   "cell_type": "code",
   "execution_count": 1,
   "id": "66f4d08c-339d-4ba0-9c03-489683f8025a",
   "metadata": {},
   "outputs": [],
   "source": [
    "# inheritance = It is basically a process of inheriting the property of parent class.\n",
    "# Types :-\n",
    "#         1) Single inheritance\n",
    "#         2) Multiple \n",
    "#         3) Multilevel\n",
    "#         4) Hierachical\n",
    "#         5) Hybrid"
   ]
  },
  {
   "cell_type": "code",
   "execution_count": 2,
   "id": "499679bb-e6aa-4802-aa26-09ab5aebbcca",
   "metadata": {},
   "outputs": [],
   "source": [
    "# Single inheritance"
   ]
  },
  {
   "cell_type": "code",
   "execution_count": 3,
   "id": "a5ca1cdb-13ad-47ca-b04a-695821c5e57b",
   "metadata": {},
   "outputs": [],
   "source": [
    "class Parent:\n",
    "    def func1(self):\n",
    "        print(\"hello from parent class\")\n",
    "        \n",
    "class Child(Parent):\n",
    "    def func2(self):\n",
    "        print(\"HEllo Child\")"
   ]
  },
  {
   "cell_type": "code",
   "execution_count": 4,
   "id": "c8ea1f57-4eff-4668-ae51-982cf48f47d2",
   "metadata": {},
   "outputs": [],
   "source": [
    "test=Child()"
   ]
  },
  {
   "cell_type": "code",
   "execution_count": 5,
   "id": "f3bc46a0-fe38-4c9a-a850-6f08a60c1770",
   "metadata": {},
   "outputs": [
    {
     "name": "stdout",
     "output_type": "stream",
     "text": [
      "hello from parent class\n"
     ]
    }
   ],
   "source": [
    "test.func1()"
   ]
  },
  {
   "cell_type": "code",
   "execution_count": 6,
   "id": "af5a917b-e5af-4030-9457-01a41fb8d2c3",
   "metadata": {},
   "outputs": [
    {
     "name": "stdout",
     "output_type": "stream",
     "text": [
      "HEllo Child\n"
     ]
    }
   ],
   "source": [
    "test.func2()"
   ]
  },
  {
   "cell_type": "code",
   "execution_count": 7,
   "id": "ea729b40-f4a8-402e-9279-819b3d82ee48",
   "metadata": {},
   "outputs": [],
   "source": [
    "class Ineuron:\n",
    "    company_Website=\"http://ineuron.ai\"\n",
    "    name=\"iNeuron\"\n",
    "    \n",
    "    def contact_details(self):\n",
    "        print(\"Contact us at\",self.company_Website , \"company name\",self.name)\n",
    "        \n",
    "class Datascience(Ineuron):\n",
    "    \n",
    "    def __init__(self):\n",
    "        self.year_of_establishment = 2018\n",
    "        \n",
    "    def est_details(self):\n",
    "        print(\"est details\",self.name,self.year_of_establishment)"
   ]
  },
  {
   "cell_type": "code",
   "execution_count": 8,
   "id": "40bacf18-7093-4699-a886-20c0e0074252",
   "metadata": {},
   "outputs": [],
   "source": [
    "ds=Datascience()"
   ]
  },
  {
   "cell_type": "code",
   "execution_count": 9,
   "id": "407c565f-e5f7-4118-8557-55f693e826d4",
   "metadata": {},
   "outputs": [
    {
     "name": "stdout",
     "output_type": "stream",
     "text": [
      "Contact us at http://ineuron.ai company name iNeuron\n"
     ]
    }
   ],
   "source": [
    "ds.contact_details()"
   ]
  },
  {
   "cell_type": "code",
   "execution_count": 10,
   "id": "d499bfac-f564-4177-a9b2-ef54cc1b7f51",
   "metadata": {},
   "outputs": [
    {
     "data": {
      "text/plain": [
       "2018"
      ]
     },
     "execution_count": 10,
     "metadata": {},
     "output_type": "execute_result"
    }
   ],
   "source": [
    "ds.year_of_establishment"
   ]
  },
  {
   "cell_type": "code",
   "execution_count": 11,
   "id": "b5028c81-d6da-4d4b-8680-66ee9038e653",
   "metadata": {},
   "outputs": [],
   "source": [
    "# Multiple inheritance : 2 parents class with one child class "
   ]
  },
  {
   "cell_type": "code",
   "execution_count": 12,
   "id": "92f88e2c-82c2-403e-91a6-2444dcf50cb0",
   "metadata": {},
   "outputs": [],
   "source": [
    "class Parent1:\n",
    "    def funct1(self):\n",
    "        print(\"Hello from parent1\")\n",
    "        \n",
    "class Parent2:\n",
    "    def funct2(self):\n",
    "        print(\"Hello from parent2\")\n",
    "        \n",
    "class Parent3:\n",
    "    def funct3(self):\n",
    "        print(\"Hello from parent3\")\n",
    "        \n",
    "class Child(Parent1,Parent2,Parent3):\n",
    "    def funct3(self):\n",
    "        print(\"Hello child\")"
   ]
  },
  {
   "cell_type": "code",
   "execution_count": 13,
   "id": "59027191-16fc-4e25-8a26-221a0f843794",
   "metadata": {},
   "outputs": [],
   "source": [
    "test=Child()"
   ]
  },
  {
   "cell_type": "code",
   "execution_count": 14,
   "id": "4cf12ac6-33f0-4dfd-b8ef-097383add2b5",
   "metadata": {},
   "outputs": [
    {
     "name": "stdout",
     "output_type": "stream",
     "text": [
      "Hello from parent2\n"
     ]
    }
   ],
   "source": [
    "test.funct2()"
   ]
  },
  {
   "cell_type": "code",
   "execution_count": 15,
   "id": "cfc7e4b9-4f4a-4e31-907d-7785ecc933de",
   "metadata": {},
   "outputs": [],
   "source": [
    "# parent class 1\n",
    "class Batch_number:\n",
    "    batchnumber=\" \"\n",
    "    def __init__(self,a,b,c):\n",
    "        self.a=a\n",
    "        self.b=b\n",
    "        self.c=c\n",
    "        \n",
    "    def batch(self):\n",
    "        print(self.batchnumber)\n",
    "        \n",
    "        \n",
    "# parent class 2\n",
    "class Course_name:\n",
    "    cname=\" \"\n",
    "    def course(self):\n",
    "        print(self.cname)\n",
    "        \n",
    "        \n",
    "# child class\n",
    "\n",
    "class Student(Batch_number,Course_name):\n",
    "    \n",
    "    def show(self):\n",
    "        print(\"Batch:\",self.batchnumber)\n",
    "        print(\"Course:\",self.cname)"
   ]
  },
  {
   "cell_type": "code",
   "execution_count": 16,
   "id": "a5c021a7-9fa3-47c6-acd9-aa0440197f4d",
   "metadata": {},
   "outputs": [],
   "source": [
    "s1=Student(4,5,6)"
   ]
  },
  {
   "cell_type": "code",
   "execution_count": 17,
   "id": "c594c68a-1484-489f-b329-82fc52a0c9e0",
   "metadata": {},
   "outputs": [],
   "source": [
    "s1.batchnumber=\"2\""
   ]
  },
  {
   "cell_type": "code",
   "execution_count": 18,
   "id": "5310991b-9716-4c7e-b511-ffff61d1f011",
   "metadata": {},
   "outputs": [],
   "source": [
    "s1.cname=\"fsds\""
   ]
  },
  {
   "cell_type": "code",
   "execution_count": 19,
   "id": "c9c42a8d-ccae-4786-8727-9d3eeb376f2c",
   "metadata": {},
   "outputs": [
    {
     "name": "stdout",
     "output_type": "stream",
     "text": [
      "fsds\n"
     ]
    }
   ],
   "source": [
    "s1.course()"
   ]
  },
  {
   "cell_type": "code",
   "execution_count": 20,
   "id": "c551feee-8628-4972-9c1a-1e4065d59efb",
   "metadata": {},
   "outputs": [
    {
     "name": "stdout",
     "output_type": "stream",
     "text": [
      "Batch: 2\n",
      "Course: fsds\n"
     ]
    }
   ],
   "source": [
    "s1.show()"
   ]
  },
  {
   "cell_type": "code",
   "execution_count": null,
   "id": "e688c13a-ea3e-4b3d-b8f9-bbaeeb002cc6",
   "metadata": {},
   "outputs": [],
   "source": []
  },
  {
   "cell_type": "code",
   "execution_count": 21,
   "id": "80c3834b-220c-4e99-aac1-eec5d46f5705",
   "metadata": {},
   "outputs": [],
   "source": [
    "class Person:\n",
    "    def __init__(self):\n",
    "        print(\"Hello from Person\")\n",
    "        \n",
    "           \n",
    "class Company:\n",
    "    def __init__(self):\n",
    "        print(\"Hello from Company\")\n",
    "                \n",
    "class Employee(Person,Company):\n",
    "    \n",
    "    def show(self):\n",
    "        print(\"Hello Child\")"
   ]
  },
  {
   "cell_type": "code",
   "execution_count": 22,
   "id": "115439a1-b781-4e1c-9576-8828cfe93ce7",
   "metadata": {},
   "outputs": [],
   "source": [
    "# Multilevel inheritance : 1 parents class with multiply child class . child class1  is inharit the property of parents class and \n",
    "#                          chld class 2 inherit the property of child class 1"
   ]
  },
  {
   "cell_type": "code",
   "execution_count": 23,
   "id": "adead5de-f05c-446c-a0cd-871466221bb0",
   "metadata": {},
   "outputs": [],
   "source": [
    "class test1:\n",
    "    def a(self):\n",
    "        print(\"Inside test1....\")\n",
    "        \n",
    "class test2(test1):\n",
    "    def b(self):\n",
    "        print(\"Inside test2......\")\n",
    "        \n",
    "class test3(test2):\n",
    "    def c(self):\n",
    "        print(\"Inside test3.......\")"
   ]
  },
  {
   "cell_type": "code",
   "execution_count": 24,
   "id": "a945131a-3db2-45ca-9143-2363d859760f",
   "metadata": {},
   "outputs": [],
   "source": [
    "t1=test3()"
   ]
  },
  {
   "cell_type": "code",
   "execution_count": 25,
   "id": "bdd8a096-d8ea-4f71-923c-06e2576c0680",
   "metadata": {},
   "outputs": [
    {
     "name": "stdout",
     "output_type": "stream",
     "text": [
      "Inside test1....\n"
     ]
    }
   ],
   "source": [
    "t1.a()"
   ]
  },
  {
   "cell_type": "code",
   "execution_count": 26,
   "id": "78a40022-084f-4d9d-a0f9-ca9ef869e9da",
   "metadata": {},
   "outputs": [],
   "source": [
    "t2=test1()"
   ]
  },
  {
   "cell_type": "code",
   "execution_count": 27,
   "id": "078b7bf9-fdfd-4ef1-a6a9-ce6b8b8c9e64",
   "metadata": {},
   "outputs": [
    {
     "name": "stdout",
     "output_type": "stream",
     "text": [
      "Inside test1....\n"
     ]
    }
   ],
   "source": [
    "t2.a()"
   ]
  },
  {
   "cell_type": "code",
   "execution_count": 28,
   "id": "89a71b5d-6769-4a36-bb7a-8d4da836f43c",
   "metadata": {},
   "outputs": [],
   "source": [
    "class Vehicle:\n",
    "    def info(self):\n",
    "        print(\"Inside vehicle class\")\n",
    "        \n",
    "class Car(Vehicle):\n",
    "    def car_info(self):\n",
    "        print(\"inside car class\")\n",
    "        \n",
    "class sportscar(Car):\n",
    "    def sportscar(self):\n",
    "        print(\"inside sports car\")"
   ]
  },
  {
   "cell_type": "code",
   "execution_count": 29,
   "id": "6bd20472-cec9-45a2-a7ee-cefdb1c16538",
   "metadata": {},
   "outputs": [],
   "source": [
    "s1=sportscar()"
   ]
  },
  {
   "cell_type": "code",
   "execution_count": 30,
   "id": "8b17855c-cb3a-497f-95eb-06c30a77b5d0",
   "metadata": {},
   "outputs": [
    {
     "name": "stdout",
     "output_type": "stream",
     "text": [
      "inside car class\n"
     ]
    }
   ],
   "source": [
    "s1.car_info()"
   ]
  },
  {
   "cell_type": "code",
   "execution_count": 31,
   "id": "30c5b6dc-68a7-4b1c-822c-f4b8ee05d98b",
   "metadata": {},
   "outputs": [],
   "source": [
    "class Phones:\n",
    "    def __init__(self,brand,model,price):\n",
    "        self.brand=brand\n",
    "        self.model=model\n",
    "        self.price=price\n",
    "        \n",
    "    def specs(self):\n",
    "        return (\"brand\", self.brand,\"price\",self.price)\n",
    "    \n",
    "    def typeofphone(self):\n",
    "        if self.price > 25000:\n",
    "            return \"this is a budget phone\"\n",
    "        else:\n",
    "            return \"this is mid range phone\"\n",
    "        \n",
    "class Smartphone(Phones):\n",
    "    def __init__(self,brand,model,price,ram,storage):\n",
    "        super().__init__(brand,model,price)\n",
    "        self.ram=ram\n",
    "        self.storage=storage\n",
    "        \n",
    "class Flashipphone(Smartphone):\n",
    "    def __init__(self,brand,model,price,ram,storage,frontcamera,backcamera,display):\n",
    "        super().__init__(brand,model,price,ram,storage)\n",
    "        self.frontcamera=frontcamera\n",
    "        self.backcamera=backcamera\n",
    "        self.display=display"
   ]
  },
  {
   "cell_type": "code",
   "execution_count": 32,
   "id": "1f1f455a-9bd0-49d6-9eba-75a112a10ec0",
   "metadata": {},
   "outputs": [],
   "source": [
    "p1=Flashipphone(\"samsung\",\"s3\",60000,128,60,\"yes\",\"yes\",\"yes\")"
   ]
  },
  {
   "cell_type": "code",
   "execution_count": 33,
   "id": "d4dc27ec-ec54-4739-90b6-75dc30a76c12",
   "metadata": {},
   "outputs": [
    {
     "data": {
      "text/plain": [
       "('brand', 'samsung', 'price', 60000)"
      ]
     },
     "execution_count": 33,
     "metadata": {},
     "output_type": "execute_result"
    }
   ],
   "source": [
    "p1.specs()"
   ]
  },
  {
   "cell_type": "code",
   "execution_count": 34,
   "id": "33597474-5412-40ba-aa5d-c5e46ec4e61d",
   "metadata": {},
   "outputs": [
    {
     "data": {
      "text/plain": [
       "'this is a budget phone'"
      ]
     },
     "execution_count": 34,
     "metadata": {},
     "output_type": "execute_result"
    }
   ],
   "source": [
    "p1.typeofphone()"
   ]
  },
  {
   "cell_type": "code",
   "execution_count": 35,
   "id": "28e95690-508b-45f7-bdbf-0dd3df7ab899",
   "metadata": {},
   "outputs": [],
   "source": [
    "# Hierachical inheritence = we have a parent class multiple inharited with different child class."
   ]
  },
  {
   "cell_type": "code",
   "execution_count": 36,
   "id": "214acbe2-f2e5-4f51-ba08-0ee9629038e6",
   "metadata": {},
   "outputs": [],
   "source": [
    "class Vehicle:\n",
    "    def info(self):\n",
    "        print(\"This is vehicle\")\n",
    "        \n",
    "class Car(Vehicle):\n",
    "    def car_info(self,name):\n",
    "        print(\"car name\",name)\n",
    "        \n",
    "class Truck(Vehicle):\n",
    "    def truck_info(self,name):\n",
    "        print(\"truck name\",name)"
   ]
  },
  {
   "cell_type": "code",
   "execution_count": 37,
   "id": "19f22ee3-0d66-4a9e-b79a-4206b6fd1a2d",
   "metadata": {},
   "outputs": [],
   "source": [
    "s1 = Car()"
   ]
  },
  {
   "cell_type": "code",
   "execution_count": 38,
   "id": "bdaeda15-56e0-4719-aa24-a796d1be3e96",
   "metadata": {},
   "outputs": [
    {
     "name": "stdout",
     "output_type": "stream",
     "text": [
      "This is vehicle\n"
     ]
    }
   ],
   "source": [
    "s1.info()"
   ]
  },
  {
   "cell_type": "code",
   "execution_count": 39,
   "id": "a22f7b76-7c2f-4d28-8ec1-24359ac4feee",
   "metadata": {},
   "outputs": [
    {
     "name": "stdout",
     "output_type": "stream",
     "text": [
      "car name bmw\n"
     ]
    }
   ],
   "source": [
    "s1.car_info(\"bmw\")"
   ]
  },
  {
   "cell_type": "code",
   "execution_count": 40,
   "id": "e94b420d-a656-4451-bdf3-4b0e36dec2e1",
   "metadata": {},
   "outputs": [],
   "source": [
    "t1=Truck()"
   ]
  },
  {
   "cell_type": "code",
   "execution_count": 41,
   "id": "de4dd294-c196-4766-a2da-3dc8d245e7b8",
   "metadata": {},
   "outputs": [
    {
     "name": "stdout",
     "output_type": "stream",
     "text": [
      "truck name vsd\n"
     ]
    }
   ],
   "source": [
    "t1.truck_info(\"vsd\")"
   ]
  },
  {
   "cell_type": "code",
   "execution_count": 42,
   "id": "3c220d52-80c9-4084-92a5-d508b08ae8c9",
   "metadata": {},
   "outputs": [],
   "source": [
    "# Hybrid inheritance"
   ]
  },
  {
   "cell_type": "code",
   "execution_count": 43,
   "id": "4da4902a-708d-4af4-aad5-77ba117d5a2c",
   "metadata": {},
   "outputs": [],
   "source": [
    "class Vehicle:\n",
    "    def info(self):\n",
    "        print(\"This is vehicle\")\n",
    "        \n",
    "class Car(Vehicle):\n",
    "    def car_info(self,name):\n",
    "        print(\"car name\",name)\n",
    "        \n",
    "class Truck(Vehicle):\n",
    "    def truck_info(self,name):\n",
    "        print(\"truck name\",name)\n",
    "        \n",
    "class Sportscar(Car, Vehicle):\n",
    "    def sportscar(self):\n",
    "        print(\"inside from sports class\")"
   ]
  },
  {
   "cell_type": "code",
   "execution_count": 44,
   "id": "d8e589e7-7131-493c-8146-5188cc8a9ef4",
   "metadata": {},
   "outputs": [],
   "source": [
    "d1= Sportscar()"
   ]
  },
  {
   "cell_type": "code",
   "execution_count": 45,
   "id": "7d9a4eb5-25f9-440a-826a-d50de9bf3432",
   "metadata": {},
   "outputs": [
    {
     "name": "stdout",
     "output_type": "stream",
     "text": [
      "This is vehicle\n"
     ]
    }
   ],
   "source": [
    "d1.info()"
   ]
  },
  {
   "cell_type": "code",
   "execution_count": 46,
   "id": "a9de416e-0349-4ebf-8998-b86381ad2ca6",
   "metadata": {},
   "outputs": [],
   "source": [
    "# super\n",
    "\n",
    "# 1. super() is used when we need to  build classes(child class) that extend the fuctionality of privously build class(parent class)\n",
    "# 2. super() function is python is used to access method of immediate parent class."
   ]
  },
  {
   "cell_type": "code",
   "execution_count": 47,
   "id": "46bb86f8-991a-450f-abdc-cf9adbc4bc71",
   "metadata": {},
   "outputs": [],
   "source": [
    "class Company:\n",
    "    def company_name(self):                      \n",
    "        return \"ineuron\"\n",
    "    \n",
    "class Employee(Company):\n",
    "    def info(self):\n",
    "        c_name = super().company_name()\n",
    "        print(\"i work at\",c_name)"
   ]
  },
  {
   "cell_type": "code",
   "execution_count": 48,
   "id": "316b2c47-5067-447f-a2ac-0047858c7017",
   "metadata": {},
   "outputs": [],
   "source": [
    "emp=Employee()"
   ]
  },
  {
   "cell_type": "code",
   "execution_count": 49,
   "id": "56d45492-3791-48df-9360-5b063c32e3d3",
   "metadata": {},
   "outputs": [
    {
     "data": {
      "text/plain": [
       "'ineuron'"
      ]
     },
     "execution_count": 49,
     "metadata": {},
     "output_type": "execute_result"
    }
   ],
   "source": [
    "emp.company_name()"
   ]
  },
  {
   "cell_type": "code",
   "execution_count": 50,
   "id": "9ac241e9-f935-4dfa-8c5d-90b85b0f1651",
   "metadata": {},
   "outputs": [
    {
     "name": "stdout",
     "output_type": "stream",
     "text": [
      "i work at ineuron\n"
     ]
    }
   ],
   "source": [
    "emp.info()"
   ]
  },
  {
   "cell_type": "code",
   "execution_count": 52,
   "id": "f1433906-8b2f-4e34-9e4c-7fea5cb56c9c",
   "metadata": {},
   "outputs": [],
   "source": [
    "# when you initialize child class in python you can call super().__init__() method this initialize the pareny class object into child class."
   ]
  },
  {
   "cell_type": "code",
   "execution_count": 53,
   "id": "48e4e740-ba52-4ce9-b27c-b13e21e5e4d3",
   "metadata": {},
   "outputs": [],
   "source": [
    "class Parent:\n",
    "    def __init__(self,v1,v2):\n",
    "        self.v1=v1\n",
    "        self.v2=v2\n",
    "        \n",
    "class child(Parent):\n",
    "    def __init__(self,v1,v2,v3):\n",
    "        super().__init__(v1,v2)\n",
    "        self.v3=v3"
   ]
  },
  {
   "cell_type": "code",
   "execution_count": 55,
   "id": "9a1ecbf6-4da2-46ba-805b-872814e62e1f",
   "metadata": {},
   "outputs": [],
   "source": [
    "c1=child(2,3,4)"
   ]
  },
  {
   "cell_type": "code",
   "execution_count": 56,
   "id": "40b60866-230d-4a92-ab05-a287aa4a7ef9",
   "metadata": {},
   "outputs": [
    {
     "data": {
      "text/plain": [
       "2"
      ]
     },
     "execution_count": 56,
     "metadata": {},
     "output_type": "execute_result"
    }
   ],
   "source": [
    "c1.v1"
   ]
  },
  {
   "cell_type": "code",
   "execution_count": 58,
   "id": "1badafba-f801-4d89-a38f-db80f02cc297",
   "metadata": {},
   "outputs": [],
   "source": [
    "#syntax\n",
    "#class classname(parentclass):\n",
    "#    def method(self,arg):\n",
    "#        super([classname],[self]).method(args)"
   ]
  },
  {
   "cell_type": "code",
   "execution_count": 60,
   "id": "724725af-d46d-476e-be07-60ecf9c7dde8",
   "metadata": {},
   "outputs": [],
   "source": [
    "class Parent:\n",
    "    def __init__(self):\n",
    "        print(\" This is the parent class\")\n",
    "        \n",
    "class Parent1:\n",
    "    def __init__(self):\n",
    "        print(\" This is the parent1 class\")\n",
    "        \n",
    "class Parent2:\n",
    "    def __init__(self):\n",
    "        print(\" This is the parent2 class\")\n",
    "        \n",
    "class Child(Parent2,Parent1,Parent):\n",
    "    def __init__(self):\n",
    "        super().__init__()\n"
   ]
  },
  {
   "cell_type": "code",
   "execution_count": 61,
   "id": "2d881198-f999-4689-a96d-9a1e212af875",
   "metadata": {},
   "outputs": [
    {
     "name": "stdout",
     "output_type": "stream",
     "text": [
      " This is the parent2 class\n"
     ]
    }
   ],
   "source": [
    "t1=Child()"
   ]
  },
  {
   "cell_type": "code",
   "execution_count": 62,
   "id": "d088a685-a891-48f6-aaf4-a007fdea547d",
   "metadata": {},
   "outputs": [],
   "source": [
    "class Parent:\n",
    "    def __init__(self):\n",
    "        print(\" This is the parent class\")\n",
    "        \n",
    "class Parent1:\n",
    "    def __init__(self):\n",
    "        print(\" This is the parent1 class\")\n",
    "        \n",
    "class Parent2:\n",
    "    def __init__(self):\n",
    "        print(\" This is the parent2 class\")\n",
    "        \n",
    "class Child(Parent1,Parent2,Parent):\n",
    "    def __init__(self):\n",
    "        super().__init__()"
   ]
  },
  {
   "cell_type": "code",
   "execution_count": 63,
   "id": "e3e260ad-49ba-487e-a288-97fe5e1f89a0",
   "metadata": {},
   "outputs": [
    {
     "name": "stdout",
     "output_type": "stream",
     "text": [
      " This is the parent1 class\n"
     ]
    }
   ],
   "source": [
    "t1=Child()"
   ]
  },
  {
   "cell_type": "code",
   "execution_count": null,
   "id": "fb858da9-addf-4b24-99fb-1f7330ebc806",
   "metadata": {},
   "outputs": [],
   "source": []
  }
 ],
 "metadata": {
  "kernelspec": {
   "display_name": "Python 3 (ipykernel)",
   "language": "python",
   "name": "python3"
  },
  "language_info": {
   "codemirror_mode": {
    "name": "ipython",
    "version": 3
   },
   "file_extension": ".py",
   "mimetype": "text/x-python",
   "name": "python",
   "nbconvert_exporter": "python",
   "pygments_lexer": "ipython3",
   "version": "3.10.6"
  }
 },
 "nbformat": 4,
 "nbformat_minor": 5
}
